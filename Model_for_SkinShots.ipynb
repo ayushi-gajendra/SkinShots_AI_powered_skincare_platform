{
  "nbformat": 4,
  "nbformat_minor": 0,
  "metadata": {
    "colab": {
      "provenance": [],
      "gpuType": "T4",
      "generative_ai_disabled": true,
      "mount_file_id": "https://github.com/ayushi-gajendra/SkinShots_AI_powered_skincare_platform/blob/tensorflow-model/Model_for_SkinShots.ipynb",
      "authorship_tag": "ABX9TyN6BWnCoSlCQ1PkpGjGVUbl",
      "include_colab_link": true
    },
    "kernelspec": {
      "name": "python3",
      "display_name": "Python 3"
    },
    "language_info": {
      "name": "python"
    },
    "accelerator": "GPU"
  },
  "cells": [
    {
      "cell_type": "markdown",
      "metadata": {
        "id": "view-in-github",
        "colab_type": "text"
      },
      "source": [
        "<a href=\"https://colab.research.google.com/github/ayushi-gajendra/SkinShots_AI_powered_skincare_platform/blob/tensorflow-model/Model_for_SkinShots.ipynb\" target=\"_parent\"><img src=\"https://colab.research.google.com/assets/colab-badge.svg\" alt=\"Open In Colab\"/></a>"
      ]
    },
    {
      "cell_type": "markdown",
      "source": [
        "# **Model for our SkinShots Website**\n",
        "We are creating a **Multiclass Classification** Neural Network Model for our SkinShots project.\n",
        "\n",
        "### **Key Concepts & Steps Covered:**\n",
        "\n",
        "1. **Understanding the Data**\n",
        "\n",
        "* We are starting with our **Skin** dataset.\n",
        "* We define **features and labels**.\n",
        "* We inspect it (shape, number of classes, etc.).\n",
        "\n",
        "2. **Preprocessing**\n",
        "\n",
        "* We **scale/normalize** data, if needed.\n",
        "* We possibly **encode categorical labels**.\n",
        "* We split it into **training, validation, test** sets.\n",
        "\n",
        "3. **Building the Model**\n",
        "\n",
        "* We define a neural network architecture using **tf.keras.Sequential** .\n",
        "* Layers usually include **input** layer (or specifying input shape), **hidden** layers (Dense, with activation like ReLU), and **output** layer (with activation appropriate for classification, softmax for multi-class).\n",
        "\n",
        "4. **Compile the Model**\n",
        "\n",
        "* We specify **loss** function (e.g. sparse_categorical_crossentropy or binary_crossentropy depending on setup).\n",
        "* Specify **optimizer** (e.g. Adam).\n",
        "* **Metrics** (like accuracy) to monitor.\n",
        "\n",
        "5. **Training**\n",
        "\n",
        "* **Fit** the model on **training data.**\n",
        "* We use **validation data** to see how well the model is generalizing.\n",
        "* We use **callbacks** or track **history.**\n",
        "\n",
        "6. **Evaluation**\n",
        "\n",
        "* Evaluate on **test data** to see final performance.\n",
        "* Check metrics, possibly **confusion matrix** or other **classification metrics**.\n",
        "\n",
        "7. **Prediction**\n",
        "\n",
        "* Use the model to **predict new/unseen data.**\n",
        "* We possibly inspect **how certain it is** (softmax probabilities, etc.)."
      ],
      "metadata": {
        "id": "EfuLkZOXIDU-"
      }
    },
    {
      "cell_type": "markdown",
      "source": [
        "\n",
        "\n",
        "---\n",
        "\n",
        "\n",
        "\n",
        "## 1. **Understanding the Data**\n",
        "\n",
        "* The data is in our **Skin** Directory - with 5 subfolders representing **5 classes**\n",
        "* The 5 classes are - **Acne, Blackheads, Dark Spots, Pores, Wrinkles**\n"
      ],
      "metadata": {
        "id": "UMDGIaYfUR_T"
      }
    },
    {
      "cell_type": "markdown",
      "source": [
        "\n",
        "---\n",
        "\n",
        "\n",
        "## 2. **Preprocessing the Data**\n",
        "\n",
        "* We will first split the data into - **Training, Validation** and **Test** sets\n",
        "\n"
      ],
      "metadata": {
        "id": "8PM3tfFrMfmD"
      }
    },
    {
      "cell_type": "code",
      "source": [
        "import tensorflow as tf\n",
        "\n",
        "# Getting the Training data (70%)\n",
        "\n",
        "train_ds = tf.keras.utils.image_dataset_from_directory(\n",
        "    \"/content/drive/MyDrive/Skin\",\n",
        "    image_size=(256,256),\n",
        "    batch_size=32,\n",
        "    label_mode=\"categorical\",\n",
        "    validation_split=0.3,\n",
        "    subset=\"training\",\n",
        "    seed=42)"
      ],
      "metadata": {
        "colab": {
          "base_uri": "https://localhost:8080/"
        },
        "id": "jS4SaCCNb8KP",
        "outputId": "a7aa260c-1ff2-4bd4-a062-02ccc79a0dc7"
      },
      "execution_count": 5,
      "outputs": [
        {
          "output_type": "stream",
          "name": "stdout",
          "text": [
            "Found 8182 files belonging to 5 classes.\n",
            "Using 5728 files for training.\n"
          ]
        }
      ]
    },
    {
      "cell_type": "markdown",
      "source": [
        "* `validation_split`: Fraction of data to reserve for validation.\n",
        "\n",
        "* * Example: validation_split=0.3 → 30% of images go to validation, 70% to training.\n",
        "\n",
        "* `subset`: Either \"training\" or \"validation\".\n",
        "\n",
        "* * \"training\" → takes the (1 - validation_split) fraction\n",
        "\n",
        "* * \"validation\" → takes the validation_split fraction\n",
        "\n",
        "* We provide a `seed` to ensure the split is deterministic. Otherwise, training and validation sets may overlap randomly."
      ],
      "metadata": {
        "id": "-qk-ttVSTVm1"
      }
    },
    {
      "cell_type": "code",
      "source": [
        "# Getting Validation and Testing data\n",
        "\n",
        "temp_ds = tf.keras.utils.image_dataset_from_directory(\n",
        "    \"/content/drive/MyDrive/Skin\",\n",
        "    image_size=(256,256),\n",
        "    batch_size=32,\n",
        "    label_mode=\"categorical\",\n",
        "    validation_split=0.3,\n",
        "    subset=\"validation\",\n",
        "    seed=42\n",
        ")\n",
        "\n",
        "# Splitting temp validation data (30%) into Validation (15%) and Testing (15%) data\n",
        "\n",
        "total_batches = tf.data.experimental.cardinality(temp_ds).numpy()\n",
        "temp_batches = int(0.5 * total_batches)\n",
        "val_ds = temp_ds.take(temp_batches)\n",
        "test_ds = temp_ds.skip(temp_batches)\n",
        "\n",
        "val_ds, test_ds"
      ],
      "metadata": {
        "colab": {
          "base_uri": "https://localhost:8080/"
        },
        "id": "gLzekzVDjpfV",
        "outputId": "a7b0da68-04f9-42fc-a813-0606ceea71b8"
      },
      "execution_count": 7,
      "outputs": [
        {
          "output_type": "stream",
          "name": "stdout",
          "text": [
            "Found 8182 files belonging to 5 classes.\n",
            "Using 2454 files for validation.\n"
          ]
        },
        {
          "output_type": "execute_result",
          "data": {
            "text/plain": [
              "(<_TakeDataset element_spec=(TensorSpec(shape=(None, 256, 256, 3), dtype=tf.float32, name=None), TensorSpec(shape=(None, 5), dtype=tf.float32, name=None))>,\n",
              " <_SkipDataset element_spec=(TensorSpec(shape=(None, 256, 256, 3), dtype=tf.float32, name=None), TensorSpec(shape=(None, 5), dtype=tf.float32, name=None))>)"
            ]
          },
          "metadata": {},
          "execution_count": 7
        }
      ]
    },
    {
      "cell_type": "markdown",
      "source": [
        "* 🔹 **Syntax:** `tf.data.experimental.cardinality(dataset)`\n",
        "\n",
        "* 🔹 **Parameters:** dataset: a `tf.data.Dataset` object.\n",
        "\n",
        "* 🔹 **Returns:** A scalar `tf.Tensor` with the number of elements (batches).\n",
        "\n",
        "* When you use **image_dataset_from_directory()** (or other dataset creation functions), you get a **tf.data.Dataset** object.\n",
        "\n",
        "* A tf.data.Dataset is an **iterator-like pipeline**, not a static list. So you can’t just call len(dataset).\n",
        "\n",
        "* To know **how many elements (batches)** are inside a dataset, TensorFlow provides the **tf.data.experimental.cardinality() function**.\n",
        "\n",
        "* **Cardinality** means “number of elements.”\n",
        "\n",
        "* Here, **each element** = **1 batch** (not individual images).\n",
        "\n",
        "* The result is a **tf.Tensor** containing the **count**.\n",
        "\n",
        "* **.numpy()** converts that tensor to a Python integer.\n",
        "\n",
        "\n",
        "* **take()** and **skip()** are functional dataset transformations → they let us **slice datasets** into **non-overlapping subsets**.\n",
        "* 🔹 **Syntax:**\n",
        "\n",
        "* * ` dataset.take(n)` → first n batches : this becomes the validation set\n",
        "\n",
        "\n",
        "* * ` dataset.skip(n)` → everything after the first n batches : this becomes the testing set"
      ],
      "metadata": {
        "id": "2sMd0FjqG8rn"
      }
    },
    {
      "cell_type": "markdown",
      "source": [
        "## **Further understanding the data**\n",
        "\n"
      ],
      "metadata": {
        "id": "gVVw35Q_rRQY"
      }
    },
    {
      "cell_type": "code",
      "source": [
        "# Chceking out the training dataset\n",
        "train_ds"
      ],
      "metadata": {
        "id": "w8Kop4BfUrTW",
        "outputId": "a0d91de5-577b-4046-ecd9-3503382dbbd7",
        "colab": {
          "base_uri": "https://localhost:8080/"
        }
      },
      "execution_count": 44,
      "outputs": [
        {
          "output_type": "execute_result",
          "data": {
            "text/plain": [
              "<_PrefetchDataset element_spec=(TensorSpec(shape=(None, 256, 256, 3), dtype=tf.float32, name=None), TensorSpec(shape=(None, 5), dtype=tf.float32, name=None))>"
            ]
          },
          "metadata": {},
          "execution_count": 44
        }
      ]
    },
    {
      "cell_type": "markdown",
      "source": [
        "### 1a. ***Features & Labels***\n",
        "\n",
        "* Each **dataset** element is a **tuple**: (images, labels)\n",
        "* * TensorFlow’s image_dataset_from_directory always returns a tuple:\n",
        "\n",
        "**Features** (X): The **input data** we feed into our model.\n",
        "* In an image classification problem, the **image pixels** are the **features**.\n",
        "\n",
        "* Data type → tf.float32 (pixel values, usually scaled 0–255 or normalized to 0–1)\n",
        "\n",
        "\n",
        "**Labels** (y): The **target/output** the model is trying to predict.\n",
        "\n",
        "* In our project → the **skin condition class** (Acne, Blackheads, Dark Spots, Pores, Wrinkles).\n",
        "\n",
        "* Because we used label_mode = \"categorical\", **labels are one-hot encoded vectors**.\n"
      ],
      "metadata": {
        "id": "zExjMOndKcge"
      }
    },
    {
      "cell_type": "markdown",
      "source": [
        "Why it shows `None` instead of our batch size?\n",
        "\n",
        "The **dataset object** (tf.data.Dataset) is abstract, it doesn’t know the batch size at the metadata level.\n",
        "\n",
        "None means **“variable dimension”** — TensorFlow is leaving it flexible, because the last batch might not always be exactly 32.\n",
        "\n",
        "Example: if our dataset had 5728 images, dividing by 32 gives 179.0 batches exactly.\n",
        "\n",
        "If it were 5730 images, the last batch would only have 2 images.\n",
        "\n",
        "**So TensorFlow shows None to indicate “batch dimension depends on runtime”.**"
      ],
      "metadata": {
        "id": "SPF8loLreobN"
      }
    },
    {
      "cell_type": "markdown",
      "source": [
        "### 1b. ***Inspect the dataset***"
      ],
      "metadata": {
        "id": "dLkjnwoNdT5e"
      }
    },
    {
      "cell_type": "code",
      "source": [
        "# Checking number of classes and names\n",
        "\n",
        "class_names = train_ds.class_names\n",
        "print(\"Class Name:\", class_names)\n",
        "print(\"Number of classes:\", len(class_names))"
      ],
      "metadata": {
        "colab": {
          "base_uri": "https://localhost:8080/"
        },
        "id": "793QlnkkzIIz",
        "outputId": "14b4c4e7-d229-457e-fd4c-83fa56e66d98"
      },
      "execution_count": 42,
      "outputs": [
        {
          "output_type": "stream",
          "name": "stdout",
          "text": [
            "Class Name: ['acne', 'blackheades', 'dark spots', 'pores', 'wrinkles']\n",
            "Number of classes: 5\n"
          ]
        }
      ]
    },
    {
      "cell_type": "markdown",
      "source": [
        "`image_dataset_from_directory()` automatically **assigns class names** based on **folder names.**\n",
        "\n",
        "Our dataset folders are Acne/, Blackheads/, DarkSpots/, … so class_names = ['Acne', 'Blackheads', 'DarkSpots', 'Pores', 'Wrinkles']"
      ],
      "metadata": {
        "id": "KjMP_raPnM_G"
      }
    },
    {
      "cell_type": "code",
      "source": [
        "# Check the shapes of one batch\n",
        "\n",
        "for images, labels in train_ds.take(1):\n",
        "  print(\"Image batch shape:\", images.shape)\n",
        "  print(\"Label batch shape:\", labels.shape)"
      ],
      "metadata": {
        "colab": {
          "base_uri": "https://localhost:8080/"
        },
        "id": "1U-Fb5SSzi8t",
        "outputId": "d5cee7ea-c81b-4902-8642-eb80bb741569"
      },
      "execution_count": 43,
      "outputs": [
        {
          "output_type": "stream",
          "name": "stdout",
          "text": [
            "Image batch shape: (32, 256, 256, 3)\n",
            "Label batch shape: (32, 5)\n"
          ]
        }
      ]
    },
    {
      "cell_type": "markdown",
      "source": [
        "* A `tf.data.Dataset object (train_ds)` doesn’t directly store all data in memory. Instead, we iterate over it in batches.\n",
        "\n",
        "* `train_ds.take(1)` → takes the first batch from the dataset.\n",
        "\n",
        "* `images` → tensor containing a batch of images.\n",
        "\n",
        "* `labels` → tensor containing one-hot encoded labels.\n",
        "\n",
        "* `Shape` tells us how images are arranged in the batch.\n",
        "\n",
        "* * **Features** (X) - Images:\n",
        "\n",
        "* * Shape: `(batch_size, height, width, channels)`\n",
        "\n",
        "* * * (32, 256, 256, 3) → 32 RGB images, each 256×256.\n",
        "\n",
        "* * * 32 → batch size = 32 images.\n",
        "\n",
        "* * * 256, 256 → height and width of each image.\n",
        "\n",
        "* * * 3 → RGB color channels.\n",
        "\n",
        "\n",
        "* * **Labels** (y):\n",
        "\n",
        "* * Shape: `(batch_size, num_classes)`\n",
        "\n",
        "* * * (32, 5) → 32 labels, each a vector like [0,0,1,0,0] (meaning \"Dark Spots\").\n",
        "\n",
        "* * * Shape of the labels depends on label_mode:\n",
        "\n",
        "* * * * If label_mode=\"int\" → (32,) (each label is an integer class index).\n",
        "\n",
        "* * * * If label_mode=\"categorical\" → (32, num_classes) (each label is a one-hot vector)."
      ],
      "metadata": {
        "id": "rxG7eQhQdhm_"
      }
    },
    {
      "cell_type": "code",
      "source": [
        "# Checking the first image & label\n",
        "\n",
        "first_image = images[0].numpy().astype(\"uint8\")\n",
        "first_label = labels[0].numpy()\n",
        "print(\"First image:\", first_image)\n",
        "print(\"first_label\", first_label)"
      ],
      "metadata": {
        "collapsed": true,
        "id": "zoua3_7vdV6q",
        "outputId": "f79b11a0-0b7f-4cba-d13a-ba69ab8ec2e8",
        "colab": {
          "base_uri": "https://localhost:8080/"
        }
      },
      "execution_count": 38,
      "outputs": [
        {
          "output_type": "stream",
          "name": "stdout",
          "text": [
            "First image: [[[8 8 8]\n",
            "  [8 8 8]\n",
            "  [8 8 8]\n",
            "  ...\n",
            "  [8 8 8]\n",
            "  [8 8 8]\n",
            "  [8 8 8]]\n",
            "\n",
            " [[8 8 8]\n",
            "  [8 8 8]\n",
            "  [8 8 8]\n",
            "  ...\n",
            "  [8 8 8]\n",
            "  [8 8 8]\n",
            "  [8 8 8]]\n",
            "\n",
            " [[8 8 8]\n",
            "  [8 8 8]\n",
            "  [8 8 8]\n",
            "  ...\n",
            "  [8 8 8]\n",
            "  [8 8 8]\n",
            "  [8 8 8]]\n",
            "\n",
            " ...\n",
            "\n",
            " [[8 8 8]\n",
            "  [8 8 8]\n",
            "  [8 8 8]\n",
            "  ...\n",
            "  [8 8 8]\n",
            "  [8 8 8]\n",
            "  [8 8 8]]\n",
            "\n",
            " [[8 8 8]\n",
            "  [8 8 8]\n",
            "  [8 8 8]\n",
            "  ...\n",
            "  [8 8 8]\n",
            "  [8 8 8]\n",
            "  [8 8 8]]\n",
            "\n",
            " [[8 8 8]\n",
            "  [8 8 8]\n",
            "  [8 8 8]\n",
            "  ...\n",
            "  [8 8 8]\n",
            "  [8 8 8]\n",
            "  [8 8 8]]]\n",
            "first_label [0. 0. 0. 1. 0.]\n"
          ]
        }
      ]
    },
    {
      "cell_type": "markdown",
      "source": [
        "`images[0]` → picks the **first image** from the **current batch**.\n",
        "\n",
        "`.numpy()` → converts it from a **TensorFlow tensor** into a **NumPy array** (so **matplotlib can use it**).\n",
        "\n",
        "`.astype(\"uint8\")` → **casts** the values **into integers between 0–255** (standard pixel format)."
      ],
      "metadata": {
        "id": "_0NaBaA_kylZ"
      }
    },
    {
      "cell_type": "code",
      "source": [
        "# Visualising the first image\n",
        "\n",
        "import matplotlib.pyplot as plt\n",
        "\n",
        "plt.figure(figsize=(3,3))\n",
        "plt.imshow(first_image)\n",
        "plt.axis(\"off\")\n",
        "class_index= first_label.argmax()\n",
        "print(print(\"Class name:\", class_names[class_index]))"
      ],
      "metadata": {
        "id": "ze9GJ_OmigEx",
        "outputId": "8fdd9216-e632-4f4b-b8a4-56616fd5d999",
        "colab": {
          "base_uri": "https://localhost:8080/",
          "height": 303
        }
      },
      "execution_count": 39,
      "outputs": [
        {
          "output_type": "stream",
          "name": "stdout",
          "text": [
            "Class name: pores\n",
            "None\n"
          ]
        },
        {
          "output_type": "display_data",
          "data": {
            "text/plain": [
              "<Figure size 300x300 with 1 Axes>"
            ],
            "image/png": "[encoded data removed]"
          },
          "metadata": {}
        }
      ]
    },
    {
      "cell_type": "markdown",
      "source": [
        "`plt.figure(figsize=(3,3))` → creates a plotting canvas of size 3×3 inches.\n",
        "\n",
        "`plt.imshow(first_image)` → displays the image from pixel values. imshow expects a NumPy array (2D for grayscale, 3D for RGB)\n",
        "\n",
        "`plt.axis(\"off\")` → hides the axis ticks/labels (so it looks like a clean picture).\n",
        "\n",
        "`class_index = first_label.argmax()` → gets the index of the highest value in the label vector (the actual class number)."
      ],
      "metadata": {
        "id": "40NepT_jl_7R"
      }
    },
    {
      "cell_type": "markdown",
      "source": [
        "## 3. **Building the model**"
      ],
      "metadata": {
        "id": "ijpTKGEEfA4K"
      }
    },
    {
      "cell_type": "markdown",
      "source": [
        "## 4. **Comipling the model**\n"
      ],
      "metadata": {
        "id": "0_GyxLEDrarY"
      }
    },
    {
      "cell_type": "markdown",
      "source": [
        "## 5. **Training the model**"
      ],
      "metadata": {
        "id": "VVM5WXb3rco8"
      }
    },
    {
      "cell_type": "code",
      "source": [
        "# Creating the model - CNN model\n",
        "\n",
        "model = tf.keras.Sequential([\n",
        "\n",
        "    # 1st convulation + pooling\n",
        "    tf.keras.layers.Conv2D(filters=30, kernel_size=(3,3), activation=\"relu\", input_shape=(256,256,3)),\n",
        "    tf.keras.layers.MaxPooling2D(2,2),\n",
        "\n",
        "    # 2nd convulation + pooling\n",
        "    tf.keras.layers.Conv2D(filters=60, kernel_size=(3,3), activation=\"relu\"),\n",
        "    tf.keras.layers.MaxPooling2D(2,2),\n",
        "\n",
        "    # Flatten feature maps → Dense layers\n",
        "    tf.keras.layers.Flatten(),\n",
        "    tf.keras.layers.Dense(120, activation=\"relu\"),\n",
        "    tf.keras.layers.Dense(5, activation=\"softmax\")\n",
        "])\n",
        "\n",
        "# Compiling the model\n",
        "model.compile(loss = tf.keras.losses.CategoricalCrossentropy,\n",
        "              optimizer = tf.keras.optimizers.Adam(),\n",
        "              metrics=[\"accuracy\"])\n",
        "\n",
        "# Training/fitting the model\n",
        "model.fit(train_ds, validation_data= val_ds, epochs=5)"
      ],
      "metadata": {
        "colab": {
          "base_uri": "https://localhost:8080/"
        },
        "collapsed": true,
        "id": "rdJonUJNfho2",
        "outputId": "de615c04-604e-4c11-f294-1c44d91f195b"
      },
      "execution_count": 11,
      "outputs": [
        {
          "output_type": "stream",
          "name": "stderr",
          "text": [
            "/usr/local/lib/python3.12/dist-packages/keras/src/layers/convolutional/base_conv.py:113: UserWarning: Do not pass an `input_shape`/`input_dim` argument to a layer. When using Sequential models, prefer using an `Input(shape)` object as the first layer in the model instead.\n",
            "  super().__init__(activity_regularizer=activity_regularizer, **kwargs)\n"
          ]
        },
        {
          "output_type": "stream",
          "name": "stdout",
          "text": [
            "Epoch 1/5\n",
            "\u001b[1m179/179\u001b[0m \u001b[32m━━━━━━━━━━━━━━━━━━━━\u001b[0m\u001b[37m\u001b[0m \u001b[1m1323s\u001b[0m 7s/step - accuracy: 0.4556 - loss: 300.3724 - val_accuracy: 0.6850 - val_loss: 0.8957\n",
            "Epoch 2/5\n",
            "\u001b[1m179/179\u001b[0m \u001b[32m━━━━━━━━━━━━━━━━━━━━\u001b[0m\u001b[37m\u001b[0m \u001b[1m53s\u001b[0m 294ms/step - accuracy: 0.7715 - loss: 0.6624 - val_accuracy: 0.7122 - val_loss: 0.8540\n",
            "Epoch 3/5\n",
            "\u001b[1m179/179\u001b[0m \u001b[32m━━━━━━━━━━━━━━━━━━━━\u001b[0m\u001b[37m\u001b[0m \u001b[1m39s\u001b[0m 216ms/step - accuracy: 0.8531 - loss: 0.4573 - val_accuracy: 0.7377 - val_loss: 1.1055\n",
            "Epoch 4/5\n",
            "\u001b[1m179/179\u001b[0m \u001b[32m━━━━━━━━━━━━━━━━━━━━\u001b[0m\u001b[37m\u001b[0m \u001b[1m34s\u001b[0m 192ms/step - accuracy: 0.9113 - loss: 0.3066 - val_accuracy: 0.7590 - val_loss: 0.9844\n",
            "Epoch 5/5\n",
            "\u001b[1m179/179\u001b[0m \u001b[32m━━━━━━━━━━━━━━━━━━━━\u001b[0m\u001b[37m\u001b[0m \u001b[1m32s\u001b[0m 181ms/step - accuracy: 0.9421 - loss: 0.1946 - val_accuracy: 0.7500 - val_loss: 1.3506\n"
          ]
        },
        {
          "output_type": "execute_result",
          "data": {
            "text/plain": [
              "<keras.src.callbacks.history.History at 0x79cce88f9010>"
            ]
          },
          "metadata": {},
          "execution_count": 11
        }
      ]
    },
    {
      "cell_type": "markdown",
      "source": [
        "### **Why we choose a CNN model for images**\n",
        "\n",
        "* **Images** are not just random numbers — they have **spatial structure**(neighboring pixels form edges, textures, patterns).\n",
        "\n",
        "* A normal **Dense** neural net:\n",
        "* * Would need millions of parameters to handle a 256×256×3 image.\n",
        "* * Ignores pixel positions (treats them all the same).\n",
        "\n",
        "* **CNNs** are **designed to handle images** because they:\n",
        "\n",
        "* * Look at small regions at a time (**local patterns**).\n",
        "\n",
        "* * Reuse filters across the whole image (**fewer parameters**).\n",
        "\n",
        "* * Build up from **edges → textures → shapes → objects**."
      ],
      "metadata": {
        "id": "AebBeQHw11nF"
      }
    },
    {
      "cell_type": "markdown",
      "source": [
        "### **Why we use each part of a CNN model**\n",
        "\n",
        "1. **Input Layer**\n",
        "\n",
        "* Why we need it:\n",
        "* * The image comes in as (256, 256, 3) (height, width, RGB channels).\n",
        "\n",
        "* Why not flatten immediately?\n",
        "* * If we flatten right away, we lose the spatial relationships (neighboring pixels that form edges/spots).\n",
        "\n",
        "2. **Convolutional Layers (Conv2D)**\n",
        "\n",
        "* Why:\n",
        "* * Instead of learning weights for every pixel separately, Conv2D uses filters/kernels that slide across the image, learning local patterns (edges, pores, spots).\n",
        "\n",
        "* * Looks at small patches of the image (like 3×3 pixels).\n",
        "\n",
        "* Why not Dense from the start?\n",
        "* * Dense layers treat each pixel independently → too many parameters (millions!) and no sense of location.\n",
        "\n",
        "* Benefit: Much fewer parameters, captures spatial features.\n",
        "\n",
        "3. **Activation Function (ReLU)**\n",
        "\n",
        "* Why:\n",
        "* * Without non-linearity, the network is basically just doing linear transformations.\n",
        "\n",
        "* * ReLU (f(x)=max(0,x)) is simple and prevents vanishing gradients (a common training problem).\n",
        "\n",
        "* * Just turns all negative numbers into 0. This helps the network learn faster and not get stuck.\n",
        "\n",
        "* Why not Sigmoid/Tanh?\n",
        "* * They squish values into small ranges, making deep networks hard to train.\n",
        "* * ReLU is faster and works better for images.\n",
        "\n",
        "4. **Pooling Layers (MaxPooling2D)**\n",
        "\n",
        "* Why:\n",
        "* * Images are huge, and we don’t need every pixel.\n",
        "* * Pooling reduces size while keeping the most important info (like “was there a spot in this region?”).\n",
        "\n",
        "* * Shrinks the image while keeping the most important part.\n",
        "\n",
        "* * Example: instead of remembering every pixel of a spot, it just remembers “there was a strong spot here”.\n",
        "\n",
        "* Why MaxPooling and not AveragePooling?\n",
        "\n",
        "* * MaxPooling keeps the strongest signal (the most activated feature). AveragePooling can blur/lose sharp features.\n",
        "\n",
        "* Benefit: Smaller feature maps → fewer computations, more robust to small shifts (if a spot moves slightly, the model still detects it).\n",
        "\n",
        "5. **Flatten**\n",
        "\n",
        "* Why:\n",
        "* * After convolution + pooling, we have a 3D feature map (height × width × channels).\n",
        "\n",
        "* * Flatten converts it into a 1D vector so we can feed it into Dense layers.\n",
        "\n",
        "* Why not keep it 3D? Dense layers only work with 1D input.\n",
        "\n",
        "6. **Dense (Fully Connected) Layers**\n",
        "\n",
        "* Why:\n",
        "* * These layers combine all extracted features and “decide” what class the image belongs to.\n",
        "\n",
        "* * Think of them as the classifier that sits on top of the feature extractor.\n",
        "\n",
        "* * Think of this part as the decision maker: “based on these features, is it acne, pores, or wrinkles?”\n",
        "\n",
        "* Why not only Conv layers?\n",
        "* * Conv layers are great at feature extraction, but Dense layers are good at combining them for final decisions.\n",
        "\n",
        "7. **Output Layer (Dense with Softmax)**\n",
        "\n",
        "* Why Softmax?\n",
        "* * Converts the raw numbers (logits) into probabilities across your 5 classes.\n",
        "\n",
        "* * Ensures they add up to 1, so you can interpret it as: “70% Acne, 20% Dark Spot, 10% Pores”.\n",
        "\n",
        "* Why not Sigmoid?\n",
        "* * Sigmoid is for binary classification (yes/no).\n",
        "* * For multiclass, we need Softmax.\n",
        "\n",
        "**Dropout (optional, but often used)**\n",
        "\n",
        "Why: Prevents overfitting by randomly turning off some neurons during training.\n",
        "\n",
        "This forces the model to learn robust patterns, not memorize the training set.\n",
        "\n",
        "Why not always? Too much dropout = underfitting.\n",
        "\n",
        "\n",
        "✅ **So in simple terms:**\n",
        "\n",
        "* Conv2D = feature finder (edges, spots).\n",
        "\n",
        "* ReLU = makes learning faster.\n",
        "\n",
        "* Pooling = keeps only important stuff.\n",
        "\n",
        "* Flatten + Dense = final decision making.\n",
        "\n",
        "* Dropout = avoids overfitting.\n",
        "\n",
        "* Softmax = gives probabilities for each class.\n",
        "\n",
        "CNN is chosen because **it’s built for image data.**\n",
        "\n",
        "Inside CNN: each part **(Conv → ReLU → Pool → Dense → Softmax)** plays a role in extracting features, simplifying them, and finally making a classification."
      ],
      "metadata": {
        "id": "KfTGjCOc2c-F"
      }
    },
    {
      "cell_type": "markdown",
      "source": [
        "## 6. **Evaluating the model & Improving the model**"
      ],
      "metadata": {
        "id": "YTfed05T2ZII"
      }
    },
    {
      "cell_type": "code",
      "source": [
        "model.summary()"
      ],
      "metadata": {
        "colab": {
          "base_uri": "https://localhost:8080/",
          "height": 369
        },
        "id": "736ny8VitD2i",
        "outputId": "5ef65861-29cd-407a-8d03-08309f75b610"
      },
      "execution_count": 12,
      "outputs": [
        {
          "output_type": "display_data",
          "data": {
            "text/plain": [
              "\u001b[1mModel: \"sequential\"\u001b[0m\n"
            ],
            "text/html": [
              "<pre style=\"white-space:pre;overflow-x:auto;line-height:normal;font-family:Menlo,'DejaVu Sans Mono',consolas,'Courier New',monospace\"><span style=\"font-weight: bold\">Model: \"sequential\"</span>\n",
              "</pre>\n"
            ]
          },
          "metadata": {}
        },
        {
          "output_type": "display_data",
          "data": {
            "text/plain": [
              "┏━━━━━━━━━━━━━━━━━━━━━━━━━━━━━━━━━┳━━━━━━━━━━━━━━━━━━━━━━━━┳━━━━━━━━━━━━━━━┓\n",
              "┃\u001b[1m \u001b[0m\u001b[1mLayer (type)                   \u001b[0m\u001b[1m \u001b[0m┃\u001b[1m \u001b[0m\u001b[1mOutput Shape          \u001b[0m\u001b[1m \u001b[0m┃\u001b[1m \u001b[0m\u001b[1m      Param #\u001b[0m\u001b[1m \u001b[0m┃\n",
              "┡━━━━━━━━━━━━━━━━━━━━━━━━━━━━━━━━━╇━━━━━━━━━━━━━━━━━━━━━━━━╇━━━━━━━━━━━━━━━┩\n",
              "│ conv2d (\u001b[38;5;33mConv2D\u001b[0m)                 │ (\u001b[38;5;45mNone\u001b[0m, \u001b[38;5;34m254\u001b[0m, \u001b[38;5;34m254\u001b[0m, \u001b[38;5;34m30\u001b[0m)   │           \u001b[38;5;34m840\u001b[0m │\n",
              "├─────────────────────────────────┼────────────────────────┼───────────────┤\n",
              "│ max_pooling2d (\u001b[38;5;33mMaxPooling2D\u001b[0m)    │ (\u001b[38;5;45mNone\u001b[0m, \u001b[38;5;34m127\u001b[0m, \u001b[38;5;34m127\u001b[0m, \u001b[38;5;34m30\u001b[0m)   │             \u001b[38;5;34m0\u001b[0m │\n",
              "├─────────────────────────────────┼────────────────────────┼───────────────┤\n",
              "│ conv2d_1 (\u001b[38;5;33mConv2D\u001b[0m)               │ (\u001b[38;5;45mNone\u001b[0m, \u001b[38;5;34m125\u001b[0m, \u001b[38;5;34m125\u001b[0m, \u001b[38;5;34m60\u001b[0m)   │        \u001b[38;5;34m16,260\u001b[0m │\n",
              "├─────────────────────────────────┼────────────────────────┼───────────────┤\n",
              "│ max_pooling2d_1 (\u001b[38;5;33mMaxPooling2D\u001b[0m)  │ (\u001b[38;5;45mNone\u001b[0m, \u001b[38;5;34m62\u001b[0m, \u001b[38;5;34m62\u001b[0m, \u001b[38;5;34m60\u001b[0m)     │             \u001b[38;5;34m0\u001b[0m │\n",
              "├─────────────────────────────────┼────────────────────────┼───────────────┤\n",
              "│ flatten (\u001b[38;5;33mFlatten\u001b[0m)               │ (\u001b[38;5;45mNone\u001b[0m, \u001b[38;5;34m230640\u001b[0m)         │             \u001b[38;5;34m0\u001b[0m │\n",
              "├─────────────────────────────────┼────────────────────────┼───────────────┤\n",
              "│ dense (\u001b[38;5;33mDense\u001b[0m)                   │ (\u001b[38;5;45mNone\u001b[0m, \u001b[38;5;34m120\u001b[0m)            │    \u001b[38;5;34m27,676,920\u001b[0m │\n",
              "├─────────────────────────────────┼────────────────────────┼───────────────┤\n",
              "│ dense_1 (\u001b[38;5;33mDense\u001b[0m)                 │ (\u001b[38;5;45mNone\u001b[0m, \u001b[38;5;34m5\u001b[0m)              │           \u001b[38;5;34m605\u001b[0m │\n",
              "└─────────────────────────────────┴────────────────────────┴───────────────┘\n"
            ],
            "text/html": [
              "<pre style=\"white-space:pre;overflow-x:auto;line-height:normal;font-family:Menlo,'DejaVu Sans Mono',consolas,'Courier New',monospace\">┏━━━━━━━━━━━━━━━━━━━━━━━━━━━━━━━━━┳━━━━━━━━━━━━━━━━━━━━━━━━┳━━━━━━━━━━━━━━━┓\n",
              "┃<span style=\"font-weight: bold\"> Layer (type)                    </span>┃<span style=\"font-weight: bold\"> Output Shape           </span>┃<span style=\"font-weight: bold\">       Param # </span>┃\n",
              "┡━━━━━━━━━━━━━━━━━━━━━━━━━━━━━━━━━╇━━━━━━━━━━━━━━━━━━━━━━━━╇━━━━━━━━━━━━━━━┩\n",
              "│ conv2d (<span style=\"color: #0087ff; text-decoration-color: #0087ff\">Conv2D</span>)                 │ (<span style=\"color: #00d7ff; text-decoration-color: #00d7ff\">None</span>, <span style=\"color: #00af00; text-decoration-color: #00af00\">254</span>, <span style=\"color: #00af00; text-decoration-color: #00af00\">254</span>, <span style=\"color: #00af00; text-decoration-color: #00af00\">30</span>)   │           <span style=\"color: #00af00; text-decoration-color: #00af00\">840</span> │\n",
              "├─────────────────────────────────┼────────────────────────┼───────────────┤\n",
              "│ max_pooling2d (<span style=\"color: #0087ff; text-decoration-color: #0087ff\">MaxPooling2D</span>)    │ (<span style=\"color: #00d7ff; text-decoration-color: #00d7ff\">None</span>, <span style=\"color: #00af00; text-decoration-color: #00af00\">127</span>, <span style=\"color: #00af00; text-decoration-color: #00af00\">127</span>, <span style=\"color: #00af00; text-decoration-color: #00af00\">30</span>)   │             <span style=\"color: #00af00; text-decoration-color: #00af00\">0</span> │\n",
              "├─────────────────────────────────┼────────────────────────┼───────────────┤\n",
              "│ conv2d_1 (<span style=\"color: #0087ff; text-decoration-color: #0087ff\">Conv2D</span>)               │ (<span style=\"color: #00d7ff; text-decoration-color: #00d7ff\">None</span>, <span style=\"color: #00af00; text-decoration-color: #00af00\">125</span>, <span style=\"color: #00af00; text-decoration-color: #00af00\">125</span>, <span style=\"color: #00af00; text-decoration-color: #00af00\">60</span>)   │        <span style=\"color: #00af00; text-decoration-color: #00af00\">16,260</span> │\n",
              "├─────────────────────────────────┼────────────────────────┼───────────────┤\n",
              "│ max_pooling2d_1 (<span style=\"color: #0087ff; text-decoration-color: #0087ff\">MaxPooling2D</span>)  │ (<span style=\"color: #00d7ff; text-decoration-color: #00d7ff\">None</span>, <span style=\"color: #00af00; text-decoration-color: #00af00\">62</span>, <span style=\"color: #00af00; text-decoration-color: #00af00\">62</span>, <span style=\"color: #00af00; text-decoration-color: #00af00\">60</span>)     │             <span style=\"color: #00af00; text-decoration-color: #00af00\">0</span> │\n",
              "├─────────────────────────────────┼────────────────────────┼───────────────┤\n",
              "│ flatten (<span style=\"color: #0087ff; text-decoration-color: #0087ff\">Flatten</span>)               │ (<span style=\"color: #00d7ff; text-decoration-color: #00d7ff\">None</span>, <span style=\"color: #00af00; text-decoration-color: #00af00\">230640</span>)         │             <span style=\"color: #00af00; text-decoration-color: #00af00\">0</span> │\n",
              "├─────────────────────────────────┼────────────────────────┼───────────────┤\n",
              "│ dense (<span style=\"color: #0087ff; text-decoration-color: #0087ff\">Dense</span>)                   │ (<span style=\"color: #00d7ff; text-decoration-color: #00d7ff\">None</span>, <span style=\"color: #00af00; text-decoration-color: #00af00\">120</span>)            │    <span style=\"color: #00af00; text-decoration-color: #00af00\">27,676,920</span> │\n",
              "├─────────────────────────────────┼────────────────────────┼───────────────┤\n",
              "│ dense_1 (<span style=\"color: #0087ff; text-decoration-color: #0087ff\">Dense</span>)                 │ (<span style=\"color: #00d7ff; text-decoration-color: #00d7ff\">None</span>, <span style=\"color: #00af00; text-decoration-color: #00af00\">5</span>)              │           <span style=\"color: #00af00; text-decoration-color: #00af00\">605</span> │\n",
              "└─────────────────────────────────┴────────────────────────┴───────────────┘\n",
              "</pre>\n"
            ]
          },
          "metadata": {}
        },
        {
          "output_type": "display_data",
          "data": {
            "text/plain": [
              "\u001b[1m Total params: \u001b[0m\u001b[38;5;34m83,083,877\u001b[0m (316.94 MB)\n"
            ],
            "text/html": [
              "<pre style=\"white-space:pre;overflow-x:auto;line-height:normal;font-family:Menlo,'DejaVu Sans Mono',consolas,'Courier New',monospace\"><span style=\"font-weight: bold\"> Total params: </span><span style=\"color: #00af00; text-decoration-color: #00af00\">83,083,877</span> (316.94 MB)\n",
              "</pre>\n"
            ]
          },
          "metadata": {}
        },
        {
          "output_type": "display_data",
          "data": {
            "text/plain": [
              "\u001b[1m Trainable params: \u001b[0m\u001b[38;5;34m27,694,625\u001b[0m (105.65 MB)\n"
            ],
            "text/html": [
              "<pre style=\"white-space:pre;overflow-x:auto;line-height:normal;font-family:Menlo,'DejaVu Sans Mono',consolas,'Courier New',monospace\"><span style=\"font-weight: bold\"> Trainable params: </span><span style=\"color: #00af00; text-decoration-color: #00af00\">27,694,625</span> (105.65 MB)\n",
              "</pre>\n"
            ]
          },
          "metadata": {}
        },
        {
          "output_type": "display_data",
          "data": {
            "text/plain": [
              "\u001b[1m Non-trainable params: \u001b[0m\u001b[38;5;34m0\u001b[0m (0.00 B)\n"
            ],
            "text/html": [
              "<pre style=\"white-space:pre;overflow-x:auto;line-height:normal;font-family:Menlo,'DejaVu Sans Mono',consolas,'Courier New',monospace\"><span style=\"font-weight: bold\"> Non-trainable params: </span><span style=\"color: #00af00; text-decoration-color: #00af00\">0</span> (0.00 B)\n",
              "</pre>\n"
            ]
          },
          "metadata": {}
        },
        {
          "output_type": "display_data",
          "data": {
            "text/plain": [
              "\u001b[1m Optimizer params: \u001b[0m\u001b[38;5;34m55,389,252\u001b[0m (211.29 MB)\n"
            ],
            "text/html": [
              "<pre style=\"white-space:pre;overflow-x:auto;line-height:normal;font-family:Menlo,'DejaVu Sans Mono',consolas,'Courier New',monospace\"><span style=\"font-weight: bold\"> Optimizer params: </span><span style=\"color: #00af00; text-decoration-color: #00af00\">55,389,252</span> (211.29 MB)\n",
              "</pre>\n"
            ]
          },
          "metadata": {}
        }
      ]
    },
    {
      "cell_type": "code",
      "source": [
        "model.evaluate(test_ds)"
      ],
      "metadata": {
        "colab": {
          "base_uri": "https://localhost:8080/"
        },
        "id": "c4ppKZFYsF_d",
        "outputId": "a674f298-4201-4ead-cf92-9f96df38fbd2"
      },
      "execution_count": 13,
      "outputs": [
        {
          "output_type": "stream",
          "name": "stdout",
          "text": [
            "\u001b[1m39/39\u001b[0m \u001b[32m━━━━━━━━━━━━━━━━━━━━\u001b[0m\u001b[37m\u001b[0m \u001b[1m202s\u001b[0m 5s/step - accuracy: 0.7773 - loss: 1.1285\n"
          ]
        },
        {
          "output_type": "execute_result",
          "data": {
            "text/plain": [
              "[1.1916389465332031, 0.7665589451789856]"
            ]
          },
          "metadata": {},
          "execution_count": 13
        }
      ]
    },
    {
      "cell_type": "code",
      "source": [
        "# Improving the model by increasing Epochs and adding an Early stopping\n",
        "\n",
        "model_2 = tf.keras.Sequential([\n",
        "\n",
        "    # 1st convulation + pooling\n",
        "    tf.keras.layers.Conv2D(filters=32, kernel_size=(3,3), activation=\"relu\", input_shape=(256,256,3)),\n",
        "    tf.keras.layers.MaxPooling2D(2,2),\n",
        "\n",
        "    # 2nd convulation + pooling\n",
        "    tf.keras.layers.Conv2D(filters=64, kernel_size=(3,3), activation=\"relu\"),\n",
        "    tf.keras.layers.MaxPooling2D(2,2),\n",
        "\n",
        "    # Flatten feature maps → Dense layers\n",
        "    tf.keras.layers.Flatten(),\n",
        "    tf.keras.layers.Dense(128, activation=\"relu\"),\n",
        "    tf.keras.layers.Dense(5, activation=\"softmax\")\n",
        "])\n",
        "\n",
        "# Compiling the model\n",
        "model_2.compile(loss = tf.keras.losses.CategoricalCrossentropy,\n",
        "              optimizer = tf.keras.optimizers.Adam(),\n",
        "              metrics=[\"accuracy\"])\n",
        "\n",
        "# Training/fitting the model\n",
        "early_stop = tf.keras.callbacks.EarlyStopping(\n",
        "    monitor=\"val_loss\", patience=3, restore_best_weights=True\n",
        ")\n",
        "history = model_2.fit(train_ds, validation_data= val_ds, epochs=20)"
      ],
      "metadata": {
        "colab": {
          "base_uri": "https://localhost:8080/",
          "height": 211
        },
        "id": "w8_mpLrmI4Yk",
        "outputId": "bbb0e8cd-7255-4b88-c0cd-8b2fbcb1e4f1"
      },
      "execution_count": 1,
      "outputs": [
        {
          "output_type": "error",
          "ename": "NameError",
          "evalue": "name 'tf' is not defined",
          "traceback": [
            "\u001b[0;31m---------------------------------------------------------------------------\u001b[0m",
            "\u001b[0;31mNameError\u001b[0m                                 Traceback (most recent call last)",
            "\u001b[0;32m/tmp/ipython-input-1631034878.py\u001b[0m in \u001b[0;36m<cell line: 0>\u001b[0;34m()\u001b[0m\n\u001b[1;32m      1\u001b[0m \u001b[0;31m# Improving the model by increasing Epochs and adding an Early stopping\u001b[0m\u001b[0;34m\u001b[0m\u001b[0;34m\u001b[0m\u001b[0m\n\u001b[1;32m      2\u001b[0m \u001b[0;34m\u001b[0m\u001b[0m\n\u001b[0;32m----> 3\u001b[0;31m model_2 = tf.keras.Sequential([\n\u001b[0m\u001b[1;32m      4\u001b[0m \u001b[0;34m\u001b[0m\u001b[0m\n\u001b[1;32m      5\u001b[0m     \u001b[0;31m# 1st convulation + pooling\u001b[0m\u001b[0;34m\u001b[0m\u001b[0;34m\u001b[0m\u001b[0m\n",
            "\u001b[0;31mNameError\u001b[0m: name 'tf' is not defined"
          ]
        }
      ]
    },
    {
      "cell_type": "code",
      "source": [
        "model_2.summary()"
      ],
      "metadata": {
        "id": "pD2Jkld1JvcY"
      },
      "execution_count": null,
      "outputs": []
    },
    {
      "cell_type": "code",
      "source": [
        "model_2.evaluate(test_ds)"
      ],
      "metadata": {
        "id": "wEE9KfWDJv5R"
      },
      "execution_count": null,
      "outputs": []
    },
    {
      "cell_type": "code",
      "source": [],
      "metadata": {
        "id": "1Z_pu-tSQcXr"
      },
      "execution_count": null,
      "outputs": []
    }
  ]
}